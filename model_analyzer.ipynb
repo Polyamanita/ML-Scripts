{
  "cells": [
    {
      "cell_type": "code",
      "execution_count": null,
      "metadata": {
        "id": "HP-RpJoMUl1t",
        "colab": {
          "base_uri": "https://localhost:8080/"
        },
        "outputId": "0564d383-d6b8-4a68-b3f6-4dc6a0e059cd"
      },
      "outputs": [
        {
          "output_type": "stream",
          "name": "stdout",
          "text": [
            "Mounted at /content/drive/\n"
          ]
        }
      ],
      "source": [
        "from google.colab import drive\n",
        "drive.mount('/content/drive/', force_remount=True)"
      ]
    },
    {
      "cell_type": "code",
      "execution_count": null,
      "metadata": {
        "id": "3I8cv8xDdxgt",
        "colab": {
          "base_uri": "https://localhost:8080/"
        },
        "outputId": "3128f73e-5f40-4745-e17c-b04e12843782"
      },
      "outputs": [
        {
          "output_type": "stream",
          "name": "stdout",
          "text": [
            "  \u001b[1;31merror\u001b[0m: \u001b[1msubprocess-exited-with-error\u001b[0m\n",
            "  \n",
            "  \u001b[31m×\u001b[0m \u001b[32mpython setup.py egg_info\u001b[0m did not run successfully.\n",
            "  \u001b[31m│\u001b[0m exit code: \u001b[1;36m1\u001b[0m\n",
            "  \u001b[31m╰─>\u001b[0m See above for output.\n",
            "  \n",
            "  \u001b[1;35mnote\u001b[0m: This error originates from a subprocess, and is likely not a problem with pip.\n",
            "  Preparing metadata (setup.py) ... \u001b[?25l\u001b[?25herror\n",
            "\u001b[1;31merror\u001b[0m: \u001b[1mmetadata-generation-failed\u001b[0m\n",
            "\n",
            "\u001b[31m×\u001b[0m Encountered error while generating package metadata.\n",
            "\u001b[31m╰─>\u001b[0m See above for output.\n",
            "\n",
            "\u001b[1;35mnote\u001b[0m: This is an issue with the package mentioned above, not pip.\n",
            "\u001b[1;36mhint\u001b[0m: See above for details.\n"
          ]
        }
      ],
      "source": [
        "!pip -q install tensorflow tensorflow-gpu opencv-python matplotlib keras"
      ]
    },
    {
      "cell_type": "code",
      "execution_count": null,
      "metadata": {
        "id": "38Goe4RIWZiQ"
      },
      "outputs": [],
      "source": [
        "import os\n",
        "import tensorflow as tf\n",
        "from tensorflow import keras\n",
        "import pandas as pd\n",
        "from keras import layers\n",
        "import matplotlib\n",
        "import pathlib\n",
        "import PIL as Image\n",
        "import imghdr\n",
        "import time\n",
        "from matplotlib import pyplot as plt\n",
        "import numpy as np\n",
        "from pathlib import Path\n",
        "from keras.models import Sequential, load_model # MAY NEED TO BE REPLACED W/ FUNCTIONAL API\n",
        "from keras.layers import Conv2D, MaxPool2D, Dense, Flatten, Dropout, AveragePooling2D\n",
        "from keras.metrics import Precision, Recall, BinaryAccuracy"
      ]
    },
    {
      "cell_type": "code",
      "execution_count": null,
      "metadata": {
        "id": "PJCiGF7vSX84"
      },
      "outputs": [],
      "source": [
        "# !ls 'drive/MyDrive/Colab Notebooks/Polyamanita/data/train/'"
      ]
    },
    {
      "cell_type": "code",
      "execution_count": null,
      "metadata": {
        "id": "O0bTyZnrVObG"
      },
      "outputs": [],
      "source": [
        "model_name = 'gdemo_FINAL3'\n",
        "model_folder = 'drive/MyDrive/Colab Notebooks/Polyamanita/models/' + model_name\n",
        "data_folder = 'drive/MyDrive/Colab Notebooks/Polyamanita/data/train_gdemo'"
      ]
    },
    {
      "cell_type": "code",
      "source": [
        "size = 512\n",
        "batch_size = 16"
      ],
      "metadata": {
        "id": "28OS3ApCbuD8"
      },
      "execution_count": null,
      "outputs": []
    },
    {
      "cell_type": "code",
      "source": [
        "def expand2square(pil_img, background_color):\n",
        "    width, height = pil_img.size\n",
        "    if width == height:\n",
        "        return pil_img\n",
        "    elif width > height:\n",
        "        result = Image.new(pil_img.mode, (width, width), background_color)\n",
        "        result.paste(pil_img, (0, (width - height) // 2))\n",
        "        return result\n",
        "    else:\n",
        "        result = Image.new(pil_img.mode, (height, height), background_color)\n",
        "        result.paste(pil_img, ((height - width) // 2, 0))\n",
        "        return result"
      ],
      "metadata": {
        "id": "ujBmkAtTePyy"
      },
      "execution_count": null,
      "outputs": []
    },
    {
      "cell_type": "code",
      "execution_count": null,
      "metadata": {
        "id": "TX5ZwskVVSdK",
        "colab": {
          "base_uri": "https://localhost:8080/"
        },
        "outputId": "7dff4ac3-6499-4aa5-ef67-3244f88e2db9"
      },
      "outputs": [
        {
          "output_type": "stream",
          "name": "stdout",
          "text": [
            "Model: \"model\"\n",
            "_________________________________________________________________\n",
            " Layer (type)                Output Shape              Param #   \n",
            "=================================================================\n",
            " input_2 (InputLayer)        [(None, 512, 512, 3)]     0         \n",
            "                                                                 \n",
            " sequential (Sequential)     (None, 512, 512, 3)       0         \n",
            "                                                                 \n",
            " tf.math.truediv (TFOpLambda  (None, 512, 512, 3)      0         \n",
            " )                                                               \n",
            "                                                                 \n",
            " tf.math.subtract (TFOpLambd  (None, 512, 512, 3)      0         \n",
            " a)                                                              \n",
            "                                                                 \n",
            " mobilenetv2_1.00_224 (Funct  (None, 16, 16, 1280)     2257984   \n",
            " ional)                                                          \n",
            "                                                                 \n",
            " global_average_pooling2d (G  (None, 1280)             0         \n",
            " lobalAveragePooling2D)                                          \n",
            "                                                                 \n",
            " dropout (Dropout)           (None, 1280)              0         \n",
            "                                                                 \n",
            " dense (Dense)               (None, 16)                20496     \n",
            "                                                                 \n",
            "=================================================================\n",
            "Total params: 2,278,480\n",
            "Trainable params: 20,496\n",
            "Non-trainable params: 2,257,984\n",
            "_________________________________________________________________\n"
          ]
        }
      ],
      "source": [
        "model = tf.keras.models.load_model(model_folder + '/savedmodel.h5', compile = True) # Load the model from the .h5 file\n",
        "model.summary()"
      ]
    },
    {
      "cell_type": "code",
      "execution_count": null,
      "metadata": {
        "id": "dknciwIIXc53",
        "colab": {
          "base_uri": "https://localhost:8080/"
        },
        "outputId": "a6bf3ffb-f8c3-4cf1-ae73-4bf40ed02c5b"
      },
      "outputs": [
        {
          "output_type": "stream",
          "name": "stdout",
          "text": [
            "Found 11294 files belonging to 16 classes.\n"
          ]
        }
      ],
      "source": [
        "dataset = tf.keras.utils.image_dataset_from_directory(\n",
        "    data_folder,\n",
        "    shuffle = False,\n",
        "    image_size = (size,size),\n",
        "    batch_size = batch_size,\n",
        "    labels='inferred',\n",
        "    label_mode = 'categorical'\n",
        ")\n",
        "\n",
        "class_names = dataset.class_names"
      ]
    },
    {
      "cell_type": "code",
      "source": [
        "import joblib"
      ],
      "metadata": {
        "id": "kFk-XgRVO1E2"
      },
      "execution_count": null,
      "outputs": []
    },
    {
      "cell_type": "code",
      "execution_count": null,
      "metadata": {
        "id": "pj3k-GB2wO0I"
      },
      "outputs": [],
      "source": [
        "dir_order = os.listdir(data_folder)\n",
        "Y = []\n",
        "Y_links = []\n",
        "for dir in dir_order:\n",
        "    jpgs = os.listdir(data_folder + '/' + dir)\n",
        "    num_files = len(jpgs)\n",
        "    for i in range(num_files):\n",
        "        Y.append(dir)\n",
        "        Y_links.append(dir + '/' + jpgs[i])\n",
        "\n",
        "# print(Y)\n",
        "# print(Y_links)"
      ]
    },
    {
      "cell_type": "code",
      "execution_count": null,
      "metadata": {
        "id": "Bx9923Zet3zH",
        "colab": {
          "base_uri": "https://localhost:8080/",
          "height": 223
        },
        "outputId": "58502bd8-6ddb-4280-e137-80ad4c3a688f"
      },
      "outputs": [
        {
          "output_type": "stream",
          "name": "stdout",
          "text": [
            "drive/MyDrive/Colab Notebooks/Polyamanita/data/train_gdemo/Lycoperdon_marginatum/Lycoperdon_marginatum_271.jpg\n"
          ]
        },
        {
          "output_type": "error",
          "ename": "AttributeError",
          "evalue": "ignored",
          "traceback": [
            "\u001b[0;31m---------------------------------------------------------------------------\u001b[0m",
            "\u001b[0;31mAttributeError\u001b[0m                            Traceback (most recent call last)",
            "\u001b[0;32m<ipython-input-14-499642b76a17>\u001b[0m in \u001b[0;36m<cell line: 30>\u001b[0;34m()\u001b[0m\n\u001b[1;32m     28\u001b[0m     \u001b[0mprediction\u001b[0m\u001b[0;34m.\u001b[0m\u001b[0mextend\u001b[0m\u001b[0;34m(\u001b[0m\u001b[0mbatch_predictions\u001b[0m\u001b[0;34m)\u001b[0m\u001b[0;34m\u001b[0m\u001b[0;34m\u001b[0m\u001b[0m\n\u001b[1;32m     29\u001b[0m \u001b[0;34m\u001b[0m\u001b[0m\n\u001b[0;32m---> 30\u001b[0;31m \u001b[0mprint\u001b[0m\u001b[0;34m(\u001b[0m\u001b[0mprediction\u001b[0m\u001b[0;34m.\u001b[0m\u001b[0mshape\u001b[0m\u001b[0;34m)\u001b[0m\u001b[0;34m\u001b[0m\u001b[0;34m\u001b[0m\u001b[0m\n\u001b[0m",
            "\u001b[0;31mAttributeError\u001b[0m: 'list' object has no attribute 'shape'"
          ]
        }
      ],
      "source": [
        "prediction = []\n",
        "print(data_folder + '/' + Y_links[0])\n",
        "for link in Y_links:\n",
        "    try:\n",
        "        img = tf.keras.preprocessing.image.load_img(data_folder + '/' + link, target_size=(size, size, 3))\n",
        "        sq_img = expand2square(img, (0,0,0))\n",
        "        sq_img = np.reshape(img,[1,size,size,3])\n",
        "        img_pred = model.predict(sq_img, verbose = 0)\n",
        "        prediction.append(img_pred) # THIS TAKES A WHILE # :( -jan\n",
        "    \n",
        "    except Exception as e:\n",
        "        print(f'Bad: {e}\\n{link}')\n",
        "        break\n",
        "\n",
        "prediction = np.array(prediction)\n",
        "\n",
        "# def preprocess_image(filename, size):\n",
        "#     img = tf.keras.preprocessing.image.load_img(filename, target_size=(size, size, 3))\n",
        "#     sq_img = expand2square(img, (0,0,0))\n",
        "#     sq_img = np.reshape(sq_img, [1,size,size,3])\n",
        "#     return sq_img\n",
        "\n",
        "# batches = [Y_links[i:i+batch_size] for i in range(0, len(Y_links), batch_size)]\n",
        "# for batch in batches:\n",
        "#     preprocessed_images = joblib.Parallel(n_jobs=-1)(\n",
        "#         joblib.delayed(preprocess_image)(data_folder + '/' + filename, size) for filename in batch)\n",
        "#     batch_predictions = model.predict(np.concatenate(preprocessed_images), verbose=0)\n",
        "#     prediction.extend(batch_predictions)\n",
        "\n",
        "print(prediction.shape)"
      ]
    },
    {
      "cell_type": "code",
      "source": [
        "prediction = prediction.reshape(prediction.shape[0], prediction.shape[2])\n",
        "sig = tf.nn.sigmoid(prediction)\n",
        "guess = tf.nn.softmax(sig)\n",
        "\n",
        "n = guess.shape[0]\n",
        "pred_class = np.zeros(n)\n",
        "guessed_name = []\n",
        "\n",
        "print(guess.shape)\n",
        "# print(np.argmax(guess[-5:]))\n",
        "\n",
        "# for i in range(n):\n",
        "#     pred_class[i] = np.argmax(guess[i])\n",
        "# pred_idx = np.argmax(guess, axis=1)\n",
        "\n",
        "# for i in range(n):\n",
        "#     print(i, ': ', class_names[pred_idx[i]])"
      ],
      "metadata": {
        "id": "ad4E-rSeKn48"
      },
      "execution_count": null,
      "outputs": []
    },
    {
      "cell_type": "code",
      "source": [
        "np.save(model_folder + '/pred_temp', guess)"
      ],
      "metadata": {
        "id": "lFsgbe5PKnRr"
      },
      "execution_count": null,
      "outputs": []
    },
    {
      "cell_type": "code",
      "execution_count": null,
      "metadata": {
        "id": "bG9NrKM4u4W6"
      },
      "outputs": [],
      "source": [
        "predictions = np.load(model_folder + '/pred_temp.npy')"
      ]
    },
    {
      "cell_type": "code",
      "execution_count": null,
      "metadata": {
        "id": "ZyzRofxKsWkQ"
      },
      "outputs": [],
      "source": [
        "classes = dataset.class_names\n",
        "n = predictions.shape[0]\n",
        "\n",
        "Y_pred_idx = np.argmax(predictions, axis=1)\n",
        "Y_pred = []\n",
        "\n",
        "for i in range(n):\n",
        "    Y_pred.append(classes[Y_pred_idx[i]])\n",
        "    print(i, ':', Y[i], '--', Y_pred[i])"
      ]
    },
    {
      "cell_type": "code",
      "execution_count": null,
      "metadata": {
        "id": "ggjklCUs21qZ"
      },
      "outputs": [],
      "source": [
        "results = pd.DataFrame({'Y': Y, 'Y_pred': Y_pred})\n",
        "results['match'] = (results['Y'] == results['Y_pred']) # Generate matching column\n",
        "print(results)"
      ]
    },
    {
      "cell_type": "code",
      "execution_count": null,
      "metadata": {
        "id": "_VH0e74U6Aqp"
      },
      "outputs": [],
      "source": [
        "total_correct = results['match'].sum()\n",
        "print('Correct:\\t', total_correct, '\\nIncorrect:\\t', results.shape[0] - total_correct)\n",
        "accuracy = (results['match'].sum() / results.shape[0]) * 100\n",
        "print(f'Accuracy:\\t {round(accuracy, 3)}%')"
      ]
    },
    {
      "cell_type": "code",
      "execution_count": null,
      "metadata": {
        "id": "nYpnpb8N6qWJ"
      },
      "outputs": [],
      "source": [
        "class_results = pd.DataFrame({'class': classes})\n",
        "class_results['total_correct'] = 0\n",
        "class_results['total_incorrect'] = 0\n",
        "class_results['total'] = 0\n",
        "# print(class_results)"
      ]
    },
    {
      "cell_type": "code",
      "execution_count": null,
      "metadata": {
        "id": "zX8r3MQQ7d7J"
      },
      "outputs": [],
      "source": [
        "for i in range(results.shape[0]):\n",
        "    class_name = results['Y'].loc[i]\n",
        "    row_idx = class_results.loc[class_results['class'] == class_name].index\n",
        "    if results.loc[i, 'match']:\n",
        "        class_results.loc[row_idx, 'total_correct'] += 1\n",
        "    else:\n",
        "        class_results.loc[row_idx, 'total_incorrect'] += 1\n",
        "\n",
        "    class_results.loc[row_idx, 'total'] += 1"
      ]
    },
    {
      "cell_type": "code",
      "source": [
        "class_results['accuracy'] = (class_results['total_correct'] / class_results['total']) * 100\n",
        "print(class_results)"
      ],
      "metadata": {
        "id": "P6MMZz5wFu8u"
      },
      "execution_count": null,
      "outputs": []
    },
    {
      "cell_type": "code",
      "source": [
        "class_results.to_csv(model_folder + '/class_analysis.csv')"
      ],
      "metadata": {
        "id": "zhLM1PjwGrVm"
      },
      "execution_count": null,
      "outputs": []
    },
    {
      "cell_type": "code",
      "source": [],
      "metadata": {
        "id": "ol2Pb8ktNJ6N"
      },
      "execution_count": null,
      "outputs": []
    },
    {
      "cell_type": "code",
      "source": [
        "print('loll')"
      ],
      "metadata": {
        "id": "ziAdAVFUSrSh"
      },
      "execution_count": null,
      "outputs": []
    },
    {
      "cell_type": "code",
      "source": [
        "print('well  well  well')"
      ],
      "metadata": {
        "id": "oYlf8JXnn2IM"
      },
      "execution_count": null,
      "outputs": []
    }
  ],
  "metadata": {
    "colab": {
      "provenance": [],
      "gpuType": "A100"
    },
    "gpuClass": "standard",
    "kernelspec": {
      "display_name": "Python 3",
      "name": "python3"
    },
    "language_info": {
      "name": "python"
    },
    "accelerator": "GPU"
  },
  "nbformat": 4,
  "nbformat_minor": 0
}